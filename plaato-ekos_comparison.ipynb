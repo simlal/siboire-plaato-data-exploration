{
 "cells": [
  {
   "cell_type": "markdown",
   "metadata": {},
   "source": [
    "# siboire-plaato-data-exploration\n",
    "Exploration and comparison of fermentation data from Plaato probes compared to manual measurements\n"
   ]
  },
  {
   "cell_type": "markdown",
   "metadata": {},
   "source": [
    "## Requirements\n",
    "Python 3.6+ with the following packages:\n",
    "- pandas, numpy, matplotlib, seaborn\n",
    "- requests\n",
    "- python-dotenv\n",
    "\n",
    "Inside a virtual environment, run:\n",
    "```\n",
    "pip install -r requirements.txt\n",
    "```"
   ]
  },
  {
   "cell_type": "markdown",
   "metadata": {},
   "source": [
    "## Project strucure\n",
    "- `data/`: contains the raw data files fetched from Plaato Pro web app for all batches we made + the raw Ekos fermentation data\n",
    "- `scripts/`: python script to use the Plaato API\n",
    "- plaato-ekos_comparison.ipynb: Jupyter notebook with the data exploration and comparison"
   ]
  },
  {
   "cell_type": "markdown",
   "metadata": {},
   "source": [
    "## Using the Plaato API\n",
    "\n",
    "Store the secret key generated from the Plaato Pro app in .env at the root.\n",
    "\n",
    "Use `python scripts/fetch_plaato.py` to fetch data from the Plaato API with a given example or import the funcs as below"
   ]
  },
  {
   "cell_type": "code",
   "execution_count": 1,
   "metadata": {},
   "outputs": [],
   "source": [
    "from scripts.fetch_plaato import get_all_devices, get_readings_from_single_device\n"
   ]
  },
  {
   "cell_type": "markdown",
   "metadata": {},
   "source": [
    "### Getting all current devices"
   ]
  },
  {
   "cell_type": "code",
   "execution_count": 2,
   "metadata": {},
   "outputs": [
    {
     "name": "stdout",
     "output_type": "stream",
     "text": [
      "Fetching all devices data from https://api.plaato.cloud/...\n",
      "Success!\n"
     ]
    }
   ],
   "source": [
    "devices_data = get_all_devices(print_data=False)"
   ]
  },
  {
   "cell_type": "code",
   "execution_count": 5,
   "metadata": {},
   "outputs": [
    {
     "data": {
      "text/plain": [
       "{'id': '64c2cde65a2edfc96377b698',\n",
       " 'variant': '63bd75db20b593e84e93d693',\n",
       " 'hardwareId': 'TOGWKZOVTOUJJDK0VLMM',\n",
       " 'clientId': '6501d465fd1cb169ecd7e9ca',\n",
       " 'token': 'TOGWKZOVTOUJJDK0VLMM_B5-H-0201',\n",
       " 'name': 'Plaato-sib_01',\n",
       " 'barcode': 'B5-H-0201',\n",
       " 'batteryLevel': 100,\n",
       " 'wifiStrength': 68,\n",
       " 'firmwareVersion': '2.4.0',\n",
       " 'lastOnline': '2023-11-08T19:46:15.000Z',\n",
       " 'latestReading': {'temperature': {'celsius': 19.942398071289062,\n",
       "   'fahrenheit': 67.9},\n",
       "  'density': {'specificGravity': 1.020631, 'plato': 5.24},\n",
       "  'fermentationActivity': {'mSgPerHour': 0.031, 'pPerHour': 0.01},\n",
       "  'time': '2023-11-08T19:46:15.000Z',\n",
       "  'frequency': 1360.21630859375},\n",
       " 'createdAt': '2023-07-27T20:04:54.366Z',\n",
       " 'updatedAt': '2023-11-08T19:45:49.606Z',\n",
       " 'state': 'IN_LIQUID',\n",
       " 'archived': {'isArchived': False, 'date': None, 'user': None},\n",
       " 'underInvestigation': False}"
      ]
     },
     "execution_count": 5,
     "metadata": {},
     "output_type": "execute_result"
    }
   ],
   "source": [
    "first_device = devices_data[0]\n",
    "first_device\n"
   ]
  },
  {
   "cell_type": "markdown",
   "metadata": {},
   "source": [
    "### Getting the last 7 days of data from a given device"
   ]
  },
  {
   "cell_type": "code",
   "execution_count": 6,
   "metadata": {},
   "outputs": [
    {
     "name": "stdout",
     "output_type": "stream",
     "text": [
      "Fetching readings from device_id='64c2cde65a2edfc96377b698'\n",
      "01-11-2023 03:14 PM to 08-11-2023 03:14 PM (7 days):\n"
     ]
    }
   ],
   "source": [
    "from datetime import datetime, timedelta\n",
    "\n",
    "seven_days_ago = datetime.now() - timedelta(days=7)\n",
    "first_device_last7days = get_readings_from_single_device(\n",
    "    device_id=first_device[\"id\"],\n",
    "    start_date=seven_days_ago    # end date default is now\n",
    ")"
   ]
  },
  {
   "cell_type": "code",
   "execution_count": 11,
   "metadata": {},
   "outputs": [
    {
     "name": "stdout",
     "output_type": "stream",
     "text": [
      "217 readings from Plaato-sib_01 in the last 7 days\n"
     ]
    }
   ],
   "source": [
    "# Numner of readings\n",
    "print(f\"{len(first_device_last7days)} readings from {first_device['name']} in the last 7 days\")"
   ]
  },
  {
   "cell_type": "code",
   "execution_count": 12,
   "metadata": {},
   "outputs": [
    {
     "data": {
      "text/plain": [
       "{'time': 1698954309000,\n",
       " 'frequency': 1348.3941650390625,\n",
       " 'temperature': 22.5085830688,\n",
       " 'density': 18.7985723855,\n",
       " 'fermentationActivity': 0.282}"
      ]
     },
     "execution_count": 12,
     "metadata": {},
     "output_type": "execute_result"
    }
   ],
   "source": [
    "# Example output from a single reading\n",
    "first_device_last7days[0]"
   ]
  },
  {
   "cell_type": "markdown",
   "metadata": {},
   "source": [
    "## Manual measurements from Ekos vs Plaato fermentation curves"
   ]
  },
  {
   "cell_type": "markdown",
   "metadata": {},
   "source": [
    "Plaato data: downloaded via the get report function from the Plaato Pro web app\n",
    "\n",
    "Manual measurements: from Ekos fermentation logs from the CQ fermentation report"
   ]
  },
  {
   "cell_type": "code",
   "execution_count": 2,
   "metadata": {},
   "outputs": [],
   "source": [
    "from pathlib import Path\n",
    "import pandas as pd\n",
    "import numpy as np"
   ]
  },
  {
   "cell_type": "code",
   "execution_count": 3,
   "metadata": {},
   "outputs": [],
   "source": [
    "# Define data dir\n",
    "root_dir = Path.cwd()\n",
    "data_dir = root_dir / \"data\"\n"
   ]
  },
  {
   "cell_type": "markdown",
   "metadata": {},
   "source": [
    "### Data pre-processing"
   ]
  },
  {
   "cell_type": "markdown",
   "metadata": {},
   "source": [
    "#### Plaato pro data:\n",
    "1. Check for nulls\n",
    "2. Modify the date format to pandas\n",
    "3. Transform to hours from start of fermentation"
   ]
  },
  {
   "cell_type": "code",
   "execution_count": 4,
   "metadata": {},
   "outputs": [
    {
     "data": {
      "text/html": [
       "<div>\n",
       "<style scoped>\n",
       "    .dataframe tbody tr th:only-of-type {\n",
       "        vertical-align: middle;\n",
       "    }\n",
       "\n",
       "    .dataframe tbody tr th {\n",
       "        vertical-align: top;\n",
       "    }\n",
       "\n",
       "    .dataframe thead th {\n",
       "        text-align: right;\n",
       "    }\n",
       "</style>\n",
       "<table border=\"1\" class=\"dataframe\">\n",
       "  <thead>\n",
       "    <tr style=\"text-align: right;\">\n",
       "      <th></th>\n",
       "      <th>timestamp</th>\n",
       "      <th>isoTime</th>\n",
       "      <th>density</th>\n",
       "      <th>temperature</th>\n",
       "    </tr>\n",
       "  </thead>\n",
       "  <tbody>\n",
       "    <tr>\n",
       "      <th>0</th>\n",
       "      <td>Wed Sep 20 2023 21:13:42 GMT+0000 (Coordinated...</td>\n",
       "      <td>2023-09-20T21:13:42.000Z</td>\n",
       "      <td>14.35</td>\n",
       "      <td>19.333565</td>\n",
       "    </tr>\n",
       "    <tr>\n",
       "      <th>1</th>\n",
       "      <td>Wed Sep 20 2023 21:43:21 GMT+0000 (Coordinated...</td>\n",
       "      <td>2023-09-20T21:43:21.000Z</td>\n",
       "      <td>14.33</td>\n",
       "      <td>19.349586</td>\n",
       "    </tr>\n",
       "    <tr>\n",
       "      <th>2</th>\n",
       "      <td>Wed Sep 20 2023 22:13:37 GMT+0000 (Coordinated...</td>\n",
       "      <td>2023-09-20T22:13:37.000Z</td>\n",
       "      <td>14.30</td>\n",
       "      <td>19.349586</td>\n",
       "    </tr>\n",
       "    <tr>\n",
       "      <th>3</th>\n",
       "      <td>Wed Sep 20 2023 22:44:45 GMT+0000 (Coordinated...</td>\n",
       "      <td>2023-09-20T22:44:45.000Z</td>\n",
       "      <td>14.27</td>\n",
       "      <td>19.349586</td>\n",
       "    </tr>\n",
       "    <tr>\n",
       "      <th>4</th>\n",
       "      <td>Wed Sep 20 2023 23:14:11 GMT+0000 (Coordinated...</td>\n",
       "      <td>2023-09-20T23:14:11.000Z</td>\n",
       "      <td>14.24</td>\n",
       "      <td>19.333565</td>\n",
       "    </tr>\n",
       "  </tbody>\n",
       "</table>\n",
       "</div>"
      ],
      "text/plain": [
       "                                           timestamp  \\\n",
       "0  Wed Sep 20 2023 21:13:42 GMT+0000 (Coordinated...   \n",
       "1  Wed Sep 20 2023 21:43:21 GMT+0000 (Coordinated...   \n",
       "2  Wed Sep 20 2023 22:13:37 GMT+0000 (Coordinated...   \n",
       "3  Wed Sep 20 2023 22:44:45 GMT+0000 (Coordinated...   \n",
       "4  Wed Sep 20 2023 23:14:11 GMT+0000 (Coordinated...   \n",
       "\n",
       "                    isoTime  density  temperature  \n",
       "0  2023-09-20T21:13:42.000Z    14.35    19.333565  \n",
       "1  2023-09-20T21:43:21.000Z    14.33    19.349586  \n",
       "2  2023-09-20T22:13:37.000Z    14.30    19.349586  \n",
       "3  2023-09-20T22:44:45.000Z    14.27    19.349586  \n",
       "4  2023-09-20T23:14:11.000Z    14.24    19.333565  "
      ]
     },
     "execution_count": 4,
     "metadata": {},
     "output_type": "execute_result"
    }
   ],
   "source": [
    "df_plaato = pd.read_csv(data_dir / \"plaatopro_1963.csv\")\n",
    "df_plaato.head()"
   ]
  },
  {
   "cell_type": "code",
   "execution_count": 5,
   "metadata": {},
   "outputs": [
    {
     "data": {
      "text/plain": [
       "timestamp       object\n",
       "isoTime         object\n",
       "density        float64\n",
       "temperature    float64\n",
       "dtype: object"
      ]
     },
     "execution_count": 5,
     "metadata": {},
     "output_type": "execute_result"
    }
   ],
   "source": [
    "# Check data types\n",
    "df_plaato.dtypes"
   ]
  },
  {
   "cell_type": "code",
   "execution_count": 6,
   "metadata": {},
   "outputs": [
    {
     "data": {
      "text/plain": [
       "timestamp      0\n",
       "isoTime        0\n",
       "density        0\n",
       "temperature    0\n",
       "dtype: int64"
      ]
     },
     "execution_count": 6,
     "metadata": {},
     "output_type": "execute_result"
    }
   ],
   "source": [
    "# check for nulls\n",
    "df_plaato.isnull().sum()"
   ]
  },
  {
   "cell_type": "code",
   "execution_count": 7,
   "metadata": {},
   "outputs": [],
   "source": [
    "# Modify timestamp to datetime\n",
    "df_plaato[\"isoTime\"] = pd.to_datetime(df_plaato[\"isoTime\"])"
   ]
  },
  {
   "cell_type": "code",
   "execution_count": 8,
   "metadata": {},
   "outputs": [
    {
     "data": {
      "text/plain": [
       "0      0 days 00:00:00\n",
       "1      0 days 00:29:39\n",
       "2      0 days 00:59:55\n",
       "3      0 days 01:31:03\n",
       "4      0 days 02:00:29\n",
       "            ...       \n",
       "656   13 days 21:14:34\n",
       "657   13 days 21:44:56\n",
       "658   13 days 22:14:24\n",
       "659   13 days 22:45:11\n",
       "660   13 days 23:14:26\n",
       "Name: time_from_start, Length: 661, dtype: timedelta64[ns]"
      ]
     },
     "execution_count": 8,
     "metadata": {},
     "output_type": "execute_result"
    }
   ],
   "source": [
    "df_plaato[\"time_from_start\"] = df_plaato[\"isoTime\"] - df_plaato[\"isoTime\"].min()\n",
    "df_plaato[\"time_from_start\"]"
   ]
  },
  {
   "cell_type": "code",
   "execution_count": 9,
   "metadata": {},
   "outputs": [],
   "source": [
    "# Apply preprocessing to both Plaato datasets\n",
    "def preprocess_plaato_data(df: pd.DataFrame) -> pd.DataFrame:\n",
    "    # Print possible null and drop them\n",
    "    print(\"Checking for null values:\")\n",
    "    print(df.isnull().sum())\n",
    "    if df.isnull().sum().sum() > 0:\n",
    "        print(\"Dropping null values...\")\n",
    "        df = df.dropna()\n",
    "    else:\n",
    "        print(\"No null values\")\n",
    "        \n",
    "    # Convert timestamp to datetime and calculating time from start\n",
    "    print(\"\\nCalculating time from start...\")\n",
    "    df[\"isoTime\"] = pd.to_datetime(df[\"isoTime\"])\n",
    "    df[\"time_from_start\"] = df[\"isoTime\"] - df[\"isoTime\"].min()\n",
    "    print(\"done!\")\n",
    "    \n",
    "    print(\"\\nChecking a sample of the data:\")\n",
    "    print(df.drop(columns=[\"timestamp\", \"isoTime\"]).head(3))\n",
    "    return df    "
   ]
  },
  {
   "cell_type": "code",
   "execution_count": 10,
   "metadata": {},
   "outputs": [
    {
     "name": "stdout",
     "output_type": "stream",
     "text": [
      "Checking for null values:\n",
      "timestamp      0\n",
      "isoTime        0\n",
      "density        0\n",
      "temperature    0\n",
      "dtype: int64\n",
      "No null values\n",
      "\n",
      "Calculating time from start...\n",
      "done!\n",
      "\n",
      "Checking a sample of the data:\n",
      "   density  temperature time_from_start\n",
      "0    14.35    19.333565 0 days 00:00:00\n",
      "1    14.33    19.349586 0 days 00:29:39\n",
      "2    14.30    19.349586 0 days 00:59:55\n"
     ]
    }
   ],
   "source": [
    "# first batch with inspiration\n",
    "df_ins_1963_plaato = preprocess_plaato_data(pd.read_csv(data_dir / \"plaatopro_1963.csv\"))\n"
   ]
  },
  {
   "cell_type": "code",
   "execution_count": 11,
   "metadata": {},
   "outputs": [
    {
     "name": "stdout",
     "output_type": "stream",
     "text": [
      "Checking for null values:\n",
      "timestamp      0\n",
      "isoTime        0\n",
      "density        0\n",
      "temperature    0\n",
      "dtype: int64\n",
      "No null values\n",
      "\n",
      "Calculating time from start...\n",
      "done!\n",
      "\n",
      "Checking a sample of the data:\n",
      "   density  temperature time_from_start\n",
      "0    15.66    22.607384 0 days 00:00:00\n",
      "1    11.56    23.272301 0 days 16:41:40\n",
      "2    11.52    23.416496 0 days 17:12:00\n"
     ]
    }
   ],
   "source": [
    "# Second batch with Presta\n",
    "df_pre_1976_plaato = preprocess_plaato_data(pd.read_csv(data_dir / \"plaatopro_1976.csv\"))\n"
   ]
  },
  {
   "cell_type": "code",
   "execution_count": 12,
   "metadata": {},
   "outputs": [
    {
     "name": "stdout",
     "output_type": "stream",
     "text": [
      "Checking for null values:\n",
      "timestamp      0\n",
      "isoTime        0\n",
      "density        0\n",
      "temperature    0\n",
      "dtype: int64\n",
      "No null values\n",
      "\n",
      "Calculating time from start...\n",
      "done!\n",
      "\n",
      "Checking a sample of the data:\n",
      "   density  temperature time_from_start\n",
      "0    17.94    22.508583 0 days 00:00:00\n",
      "1    17.90    22.578011 0 days 00:29:34\n",
      "2    17.85    22.663460 0 days 01:31:01\n"
     ]
    }
   ],
   "source": [
    "# third batch with Bipap\n",
    "df_bip_1985_plaato = preprocess_plaato_data(pd.read_csv(data_dir / \"plaatopro_1985.csv\"))"
   ]
  },
  {
   "cell_type": "markdown",
   "metadata": {},
   "source": [
    "#### Ekos manual measurements processing:\n",
    "0. Convert to proper dtypes\n",
    "1. Remove inprogress batches\n",
    "2. Filter for relevant skus\n",
    "3. Drop nulls for density\n",
    "4. Transform to time from start of fermentation\n",
    "5. Verify OG and FG makes sense"
   ]
  },
  {
   "cell_type": "markdown",
   "metadata": {},
   "source": [
    "Keep relevant cols"
   ]
  },
  {
   "cell_type": "code",
   "execution_count": 13,
   "metadata": {},
   "outputs": [
    {
     "data": {
      "text/html": [
       "<div>\n",
       "<style scoped>\n",
       "    .dataframe tbody tr th:only-of-type {\n",
       "        vertical-align: middle;\n",
       "    }\n",
       "\n",
       "    .dataframe tbody tr th {\n",
       "        vertical-align: top;\n",
       "    }\n",
       "\n",
       "    .dataframe thead th {\n",
       "        text-align: right;\n",
       "    }\n",
       "</style>\n",
       "<table border=\"1\" class=\"dataframe\">\n",
       "  <thead>\n",
       "    <tr style=\"text-align: right;\">\n",
       "      <th></th>\n",
       "      <th>Status</th>\n",
       "      <th>Start Date</th>\n",
       "      <th>Product</th>\n",
       "      <th>Style</th>\n",
       "      <th>Batch Number</th>\n",
       "      <th>Turn Count</th>\n",
       "      <th>Original Gravity</th>\n",
       "      <th>Date</th>\n",
       "      <th>Created By</th>\n",
       "      <th>Task</th>\n",
       "      <th>Temperature</th>\n",
       "      <th>Gravity</th>\n",
       "      <th>pH</th>\n",
       "      <th>Yeast Attenuation</th>\n",
       "      <th>ABV</th>\n",
       "      <th>Actual ABV</th>\n",
       "      <th>Taste Aroma Notes</th>\n",
       "      <th>Batch Locations</th>\n",
       "    </tr>\n",
       "  </thead>\n",
       "  <tbody>\n",
       "    <tr>\n",
       "      <th>0</th>\n",
       "      <td>Completed</td>\n",
       "      <td>06/03/2023</td>\n",
       "      <td>Le 3e souffle</td>\n",
       "      <td>NEIPA</td>\n",
       "      <td>\\t06032023.1</td>\n",
       "      <td>0.0</td>\n",
       "      <td>0.0</td>\n",
       "      <td>NaN</td>\n",
       "      <td>NaN</td>\n",
       "      <td>NaN</td>\n",
       "      <td>NaN</td>\n",
       "      <td>NaN</td>\n",
       "      <td>NaN</td>\n",
       "      <td>NaN</td>\n",
       "      <td>NaN</td>\n",
       "      <td>NaN</td>\n",
       "      <td>NaN</td>\n",
       "      <td>NaN</td>\n",
       "    </tr>\n",
       "    <tr>\n",
       "      <th>1</th>\n",
       "      <td>Completed</td>\n",
       "      <td>06/03/2023</td>\n",
       "      <td>Le 3e souffle</td>\n",
       "      <td>NEIPA</td>\n",
       "      <td>\\t06032023.2</td>\n",
       "      <td>0.0</td>\n",
       "      <td>0.0</td>\n",
       "      <td>NaN</td>\n",
       "      <td>NaN</td>\n",
       "      <td>NaN</td>\n",
       "      <td>NaN</td>\n",
       "      <td>NaN</td>\n",
       "      <td>NaN</td>\n",
       "      <td>NaN</td>\n",
       "      <td>NaN</td>\n",
       "      <td>NaN</td>\n",
       "      <td>NaN</td>\n",
       "      <td>NaN</td>\n",
       "    </tr>\n",
       "    <tr>\n",
       "      <th>2</th>\n",
       "      <td>Completed</td>\n",
       "      <td>16/05/2022</td>\n",
       "      <td>DIPA - Cabernet/Merlot - Brett</td>\n",
       "      <td>India Pale Ale</td>\n",
       "      <td>12072021</td>\n",
       "      <td>0.0</td>\n",
       "      <td>0.0</td>\n",
       "      <td>NaN</td>\n",
       "      <td>NaN</td>\n",
       "      <td>NaN</td>\n",
       "      <td>NaN</td>\n",
       "      <td>NaN</td>\n",
       "      <td>NaN</td>\n",
       "      <td>NaN</td>\n",
       "      <td>NaN</td>\n",
       "      <td>NaN</td>\n",
       "      <td>NaN</td>\n",
       "      <td>NaN</td>\n",
       "    </tr>\n",
       "    <tr>\n",
       "      <th>3</th>\n",
       "      <td>Completed</td>\n",
       "      <td>16/05/2022</td>\n",
       "      <td>DIPA - Cabernet/Merlot - Brett</td>\n",
       "      <td>India Pale Ale</td>\n",
       "      <td>12072021.1</td>\n",
       "      <td>0.0</td>\n",
       "      <td>0.0</td>\n",
       "      <td>NaN</td>\n",
       "      <td>NaN</td>\n",
       "      <td>NaN</td>\n",
       "      <td>NaN</td>\n",
       "      <td>NaN</td>\n",
       "      <td>NaN</td>\n",
       "      <td>NaN</td>\n",
       "      <td>NaN</td>\n",
       "      <td>NaN</td>\n",
       "      <td>NaN</td>\n",
       "      <td>NaN</td>\n",
       "    </tr>\n",
       "    <tr>\n",
       "      <th>4</th>\n",
       "      <td>In-Progress</td>\n",
       "      <td>16/05/2022</td>\n",
       "      <td>DIPA - Cabernet/Merlot - Brett</td>\n",
       "      <td>India Pale Ale</td>\n",
       "      <td>12072021.2</td>\n",
       "      <td>0.0</td>\n",
       "      <td>0.0</td>\n",
       "      <td>NaN</td>\n",
       "      <td>NaN</td>\n",
       "      <td>NaN</td>\n",
       "      <td>NaN</td>\n",
       "      <td>NaN</td>\n",
       "      <td>NaN</td>\n",
       "      <td>NaN</td>\n",
       "      <td>NaN</td>\n",
       "      <td>NaN</td>\n",
       "      <td>NaN</td>\n",
       "      <td>CM3</td>\n",
       "    </tr>\n",
       "  </tbody>\n",
       "</table>\n",
       "</div>"
      ],
      "text/plain": [
       "        Status  Start Date                         Product           Style  \\\n",
       "0    Completed  06/03/2023                   Le 3e souffle           NEIPA   \n",
       "1    Completed  06/03/2023                   Le 3e souffle           NEIPA   \n",
       "2    Completed  16/05/2022  DIPA - Cabernet/Merlot - Brett  India Pale Ale   \n",
       "3    Completed  16/05/2022  DIPA - Cabernet/Merlot - Brett  India Pale Ale   \n",
       "4  In-Progress  16/05/2022  DIPA - Cabernet/Merlot - Brett  India Pale Ale   \n",
       "\n",
       "   Batch Number  Turn Count  Original Gravity Date Created By Task  \\\n",
       "0  \\t06032023.1         0.0               0.0  NaN        NaN  NaN   \n",
       "1  \\t06032023.2         0.0               0.0  NaN        NaN  NaN   \n",
       "2      12072021         0.0               0.0  NaN        NaN  NaN   \n",
       "3    12072021.1         0.0               0.0  NaN        NaN  NaN   \n",
       "4    12072021.2         0.0               0.0  NaN        NaN  NaN   \n",
       "\n",
       "   Temperature  Gravity  pH Yeast Attenuation  ABV  Actual ABV  \\\n",
       "0          NaN      NaN NaN               NaN  NaN         NaN   \n",
       "1          NaN      NaN NaN               NaN  NaN         NaN   \n",
       "2          NaN      NaN NaN               NaN  NaN         NaN   \n",
       "3          NaN      NaN NaN               NaN  NaN         NaN   \n",
       "4          NaN      NaN NaN               NaN  NaN         NaN   \n",
       "\n",
       "  Taste Aroma Notes Batch Locations  \n",
       "0               NaN             NaN  \n",
       "1               NaN             NaN  \n",
       "2               NaN             NaN  \n",
       "3               NaN             NaN  \n",
       "4               NaN             CM3  "
      ]
     },
     "execution_count": 13,
     "metadata": {},
     "output_type": "execute_result"
    }
   ],
   "source": [
    "df_ekos = pd.read_csv(data_dir / \"cq-fermentation-data_ekos.csv\")\n",
    "df_ekos.head()"
   ]
  },
  {
   "cell_type": "code",
   "execution_count": 14,
   "metadata": {},
   "outputs": [
    {
     "data": {
      "text/plain": [
       "Status                object\n",
       "Start Date            object\n",
       "Product               object\n",
       "Style                 object\n",
       "Batch Number          object\n",
       "Turn Count           float64\n",
       "Original Gravity     float64\n",
       "Date                  object\n",
       "Created By            object\n",
       "Task                  object\n",
       "Temperature          float64\n",
       "Gravity              float64\n",
       "pH                   float64\n",
       "Yeast Attenuation     object\n",
       "ABV                   object\n",
       "Actual ABV           float64\n",
       "Taste Aroma Notes     object\n",
       "Batch Locations       object\n",
       "dtype: object"
      ]
     },
     "execution_count": 14,
     "metadata": {},
     "output_type": "execute_result"
    }
   ],
   "source": [
    "df_ekos.dtypes\n",
    " "
   ]
  },
  {
   "cell_type": "code",
   "execution_count": 15,
   "metadata": {},
   "outputs": [],
   "source": [
    "# Keep only relevant cols for this analysis\n",
    "cols_to_keep = [\n",
    "    \"Status\", \n",
    "    \"Start Date\", \n",
    "    \"Product\", \n",
    "    \"Batch Number\",\n",
    "    \"Original Gravity\",\n",
    "    \"Date\",\n",
    "    \"Task\",\n",
    "    \"Temperature\",\n",
    "    \"Gravity\",\n",
    "    \"Taste Aroma Notes\"\n",
    "]"
   ]
  },
  {
   "cell_type": "code",
   "execution_count": 16,
   "metadata": {},
   "outputs": [
    {
     "data": {
      "text/html": [
       "<div>\n",
       "<style scoped>\n",
       "    .dataframe tbody tr th:only-of-type {\n",
       "        vertical-align: middle;\n",
       "    }\n",
       "\n",
       "    .dataframe tbody tr th {\n",
       "        vertical-align: top;\n",
       "    }\n",
       "\n",
       "    .dataframe thead th {\n",
       "        text-align: right;\n",
       "    }\n",
       "</style>\n",
       "<table border=\"1\" class=\"dataframe\">\n",
       "  <thead>\n",
       "    <tr style=\"text-align: right;\">\n",
       "      <th></th>\n",
       "      <th>Status</th>\n",
       "      <th>Start Date</th>\n",
       "      <th>Product</th>\n",
       "      <th>Batch Number</th>\n",
       "      <th>Original Gravity</th>\n",
       "      <th>Date</th>\n",
       "      <th>Task</th>\n",
       "      <th>Temperature</th>\n",
       "      <th>Gravity</th>\n",
       "      <th>Taste Aroma Notes</th>\n",
       "    </tr>\n",
       "  </thead>\n",
       "  <tbody>\n",
       "    <tr>\n",
       "      <th>0</th>\n",
       "      <td>Completed</td>\n",
       "      <td>06/03/2023</td>\n",
       "      <td>Le 3e souffle</td>\n",
       "      <td>\\t06032023.1</td>\n",
       "      <td>0.0</td>\n",
       "      <td>NaN</td>\n",
       "      <td>NaN</td>\n",
       "      <td>NaN</td>\n",
       "      <td>NaN</td>\n",
       "      <td>NaN</td>\n",
       "    </tr>\n",
       "    <tr>\n",
       "      <th>1</th>\n",
       "      <td>Completed</td>\n",
       "      <td>06/03/2023</td>\n",
       "      <td>Le 3e souffle</td>\n",
       "      <td>\\t06032023.2</td>\n",
       "      <td>0.0</td>\n",
       "      <td>NaN</td>\n",
       "      <td>NaN</td>\n",
       "      <td>NaN</td>\n",
       "      <td>NaN</td>\n",
       "      <td>NaN</td>\n",
       "    </tr>\n",
       "    <tr>\n",
       "      <th>2</th>\n",
       "      <td>Completed</td>\n",
       "      <td>16/05/2022</td>\n",
       "      <td>DIPA - Cabernet/Merlot - Brett</td>\n",
       "      <td>12072021</td>\n",
       "      <td>0.0</td>\n",
       "      <td>NaN</td>\n",
       "      <td>NaN</td>\n",
       "      <td>NaN</td>\n",
       "      <td>NaN</td>\n",
       "      <td>NaN</td>\n",
       "    </tr>\n",
       "    <tr>\n",
       "      <th>3</th>\n",
       "      <td>Completed</td>\n",
       "      <td>16/05/2022</td>\n",
       "      <td>DIPA - Cabernet/Merlot - Brett</td>\n",
       "      <td>12072021.1</td>\n",
       "      <td>0.0</td>\n",
       "      <td>NaN</td>\n",
       "      <td>NaN</td>\n",
       "      <td>NaN</td>\n",
       "      <td>NaN</td>\n",
       "      <td>NaN</td>\n",
       "    </tr>\n",
       "    <tr>\n",
       "      <th>4</th>\n",
       "      <td>In-Progress</td>\n",
       "      <td>16/05/2022</td>\n",
       "      <td>DIPA - Cabernet/Merlot - Brett</td>\n",
       "      <td>12072021.2</td>\n",
       "      <td>0.0</td>\n",
       "      <td>NaN</td>\n",
       "      <td>NaN</td>\n",
       "      <td>NaN</td>\n",
       "      <td>NaN</td>\n",
       "      <td>NaN</td>\n",
       "    </tr>\n",
       "  </tbody>\n",
       "</table>\n",
       "</div>"
      ],
      "text/plain": [
       "        Status  Start Date                         Product  Batch Number  \\\n",
       "0    Completed  06/03/2023                   Le 3e souffle  \\t06032023.1   \n",
       "1    Completed  06/03/2023                   Le 3e souffle  \\t06032023.2   \n",
       "2    Completed  16/05/2022  DIPA - Cabernet/Merlot - Brett      12072021   \n",
       "3    Completed  16/05/2022  DIPA - Cabernet/Merlot - Brett    12072021.1   \n",
       "4  In-Progress  16/05/2022  DIPA - Cabernet/Merlot - Brett    12072021.2   \n",
       "\n",
       "   Original Gravity Date Task  Temperature  Gravity Taste Aroma Notes  \n",
       "0               0.0  NaN  NaN          NaN      NaN               NaN  \n",
       "1               0.0  NaN  NaN          NaN      NaN               NaN  \n",
       "2               0.0  NaN  NaN          NaN      NaN               NaN  \n",
       "3               0.0  NaN  NaN          NaN      NaN               NaN  \n",
       "4               0.0  NaN  NaN          NaN      NaN               NaN  "
      ]
     },
     "execution_count": 16,
     "metadata": {},
     "output_type": "execute_result"
    }
   ],
   "source": [
    "df_ekos = df_ekos[cols_to_keep]\n",
    "df_ekos.head()"
   ]
  },
  {
   "cell_type": "markdown",
   "metadata": {},
   "source": [
    "Drop missing dates entries"
   ]
  },
  {
   "cell_type": "code",
   "execution_count": 17,
   "metadata": {},
   "outputs": [
    {
     "name": "stdout",
     "output_type": "stream",
     "text": [
      "Missing 'Date'\n",
      "89\n",
      "Missing 'Start Date'\n",
      "32\n"
     ]
    }
   ],
   "source": [
    "# Checking for nulls in dates\n",
    "print(\"Missing 'Date'\")\n",
    "print(df_ekos[\"Date\"].isnull().sum())\n",
    "\n",
    "print(\"Missing 'Start Date'\")\n",
    "print(df_ekos[\"Start Date\"].isnull().sum())"
   ]
  },
  {
   "cell_type": "code",
   "execution_count": 25,
   "metadata": {},
   "outputs": [
    {
     "data": {
      "text/plain": [
       "4018"
      ]
     },
     "execution_count": 25,
     "metadata": {},
     "output_type": "execute_result"
    }
   ],
   "source": []
  },
  {
   "cell_type": "code",
   "execution_count": 26,
   "metadata": {},
   "outputs": [
    {
     "data": {
      "text/plain": [
       "(4050, 10)"
      ]
     },
     "execution_count": 26,
     "metadata": {},
     "output_type": "execute_result"
    }
   ],
   "source": [
    "# Dropping nulls for date cols\n",
    "df_ekos = df_ekos.dropna(subset=[\"Date\", \"Start Date\"])\n",
    "df_ekos.shape"
   ]
  },
  {
   "cell_type": "code",
   "execution_count": 28,
   "metadata": {},
   "outputs": [
    {
     "data": {
      "text/html": [
       "<div>\n",
       "<style scoped>\n",
       "    .dataframe tbody tr th:only-of-type {\n",
       "        vertical-align: middle;\n",
       "    }\n",
       "\n",
       "    .dataframe tbody tr th {\n",
       "        vertical-align: top;\n",
       "    }\n",
       "\n",
       "    .dataframe thead th {\n",
       "        text-align: right;\n",
       "    }\n",
       "</style>\n",
       "<table border=\"1\" class=\"dataframe\">\n",
       "  <thead>\n",
       "    <tr style=\"text-align: right;\">\n",
       "      <th></th>\n",
       "      <th>Status</th>\n",
       "      <th>Start Date</th>\n",
       "      <th>Product</th>\n",
       "      <th>Batch Number</th>\n",
       "      <th>Original Gravity</th>\n",
       "      <th>Date</th>\n",
       "      <th>Task</th>\n",
       "      <th>Temperature</th>\n",
       "      <th>Gravity</th>\n",
       "      <th>Taste Aroma Notes</th>\n",
       "    </tr>\n",
       "  </thead>\n",
       "  <tbody>\n",
       "    <tr>\n",
       "      <th>23</th>\n",
       "      <td>Completed</td>\n",
       "      <td>16/05/2022</td>\n",
       "      <td>Tcheque mon bike</td>\n",
       "      <td>1675</td>\n",
       "      <td>2.5</td>\n",
       "      <td>10/06/2022</td>\n",
       "      <td>Fermentation Log</td>\n",
       "      <td>2.5</td>\n",
       "      <td>2.5</td>\n",
       "      <td>OK: Pointe de souffre agréable. Malté   végéta...</td>\n",
       "    </tr>\n",
       "    <tr>\n",
       "      <th>24</th>\n",
       "      <td>Completed</td>\n",
       "      <td>16/05/2022</td>\n",
       "      <td>Trip d'Automne</td>\n",
       "      <td>1676</td>\n",
       "      <td>15.5</td>\n",
       "      <td>16/05/2022</td>\n",
       "      <td>Fermentation Log / Mon May 16</td>\n",
       "      <td>0.0</td>\n",
       "      <td>15.5</td>\n",
       "      <td>NaN</td>\n",
       "    </tr>\n",
       "    <tr>\n",
       "      <th>25</th>\n",
       "      <td>Completed</td>\n",
       "      <td>16/05/2022</td>\n",
       "      <td>Trip d'Automne</td>\n",
       "      <td>1676</td>\n",
       "      <td>15.5</td>\n",
       "      <td>17/05/2022</td>\n",
       "      <td>Fermentation Log / Tue May 17</td>\n",
       "      <td>19.1</td>\n",
       "      <td>3.8</td>\n",
       "      <td>NaN</td>\n",
       "    </tr>\n",
       "    <tr>\n",
       "      <th>26</th>\n",
       "      <td>Completed</td>\n",
       "      <td>16/05/2022</td>\n",
       "      <td>Trip d'Automne</td>\n",
       "      <td>1676</td>\n",
       "      <td>15.5</td>\n",
       "      <td>18/05/2022</td>\n",
       "      <td>Fermentation Log / Wed May 18</td>\n",
       "      <td>19.8</td>\n",
       "      <td>3.2</td>\n",
       "      <td>NaN</td>\n",
       "    </tr>\n",
       "    <tr>\n",
       "      <th>27</th>\n",
       "      <td>Completed</td>\n",
       "      <td>16/05/2022</td>\n",
       "      <td>Trip d'Automne</td>\n",
       "      <td>1676</td>\n",
       "      <td>15.5</td>\n",
       "      <td>19/05/2022</td>\n",
       "      <td>Fermentation Log / Thu May 19</td>\n",
       "      <td>20.0</td>\n",
       "      <td>3.0</td>\n",
       "      <td>NaN</td>\n",
       "    </tr>\n",
       "  </tbody>\n",
       "</table>\n",
       "</div>"
      ],
      "text/plain": [
       "       Status  Start Date           Product Batch Number  Original Gravity  \\\n",
       "23  Completed  16/05/2022  Tcheque mon bike         1675               2.5   \n",
       "24  Completed  16/05/2022    Trip d'Automne         1676              15.5   \n",
       "25  Completed  16/05/2022    Trip d'Automne         1676              15.5   \n",
       "26  Completed  16/05/2022    Trip d'Automne         1676              15.5   \n",
       "27  Completed  16/05/2022    Trip d'Automne         1676              15.5   \n",
       "\n",
       "           Date                           Task  Temperature  Gravity  \\\n",
       "23  10/06/2022                Fermentation Log          2.5      2.5   \n",
       "24  16/05/2022   Fermentation Log / Mon May 16          0.0     15.5   \n",
       "25  17/05/2022   Fermentation Log / Tue May 17         19.1      3.8   \n",
       "26  18/05/2022   Fermentation Log / Wed May 18         19.8      3.2   \n",
       "27  19/05/2022   Fermentation Log / Thu May 19         20.0      3.0   \n",
       "\n",
       "                                    Taste Aroma Notes  \n",
       "23  OK: Pointe de souffre agréable. Malté   végéta...  \n",
       "24                                                NaN  \n",
       "25                                                NaN  \n",
       "26                                                NaN  \n",
       "27                                                NaN  "
      ]
     },
     "execution_count": 28,
     "metadata": {},
     "output_type": "execute_result"
    }
   ],
   "source": [
    "df_ekos.head()"
   ]
  },
  {
   "cell_type": "markdown",
   "metadata": {},
   "source": [
    "Convert to proper types and datetime"
   ]
  },
  {
   "cell_type": "code",
   "execution_count": 34,
   "metadata": {},
   "outputs": [],
   "source": [
    "# Convert all non number to strings\n",
    "df_ekos[\"Status\"] = df_ekos[\"Status\"].astype(str)\n",
    "df_ekos[\"Start Date\"] = df_ekos[\"Start Date\"].astype(str)\n",
    "df_ekos[\"Product\"] = df_ekos[\"Product\"].astype(str)\n",
    "df_ekos[\"Batch Number\"] = df_ekos[\"Batch Number\"].astype(str)\n",
    "df_ekos[\"Date\"] = df_ekos[\"Date\"].astype(str)\n",
    "df_ekos[\"Task\"] = df_ekos[\"Task\"].astype(str)\n",
    "df_ekos[\"Taste Aroma Notes\"] = df_ekos[\"Taste Aroma Notes\"].astype(str)\n"
   ]
  },
  {
   "cell_type": "code",
   "execution_count": 35,
   "metadata": {},
   "outputs": [],
   "source": [
    "# Remove trailing spaces\n",
    "df_ekos[\"Status\"] = df_ekos[\"Status\"].str.strip()\n",
    "df_ekos[\"Start Date\"] = df_ekos[\"Start Date\"].str.strip()\n",
    "df_ekos[\"Product\"] = df_ekos[\"Product\"].str.strip()\n",
    "df_ekos[\"Batch Number\"] = df_ekos[\"Batch Number\"].str.strip()\n",
    "df_ekos[\"Date\"] = df_ekos[\"Date\"].str.strip()\n",
    "df_ekos[\"Task\"] = df_ekos[\"Task\"].str.strip()\n",
    "df_ekos[\"Taste Aroma Notes\"] = df_ekos[\"Taste Aroma Notes\"].str.strip()"
   ]
  },
  {
   "cell_type": "code",
   "execution_count": 38,
   "metadata": {},
   "outputs": [],
   "source": [
    "# Convert to datetime\n",
    "df_ekos[\"Start Date\"] = pd.to_datetime(df_ekos[\"Start Date\"], format=\"%d/%m/%Y\")\n",
    "df_ekos[\"Date\"] = pd.to_datetime(df_ekos[\"Date\"], format=\"%d/%m/%Y\")\n"
   ]
  },
  {
   "cell_type": "markdown",
   "metadata": {},
   "source": [
    "Filter for completed only and relevant skus"
   ]
  },
  {
   "cell_type": "code",
   "execution_count": 42,
   "metadata": {},
   "outputs": [],
   "source": [
    "# Remove in-progress batches\n",
    "df_ekos = df_ekos[df_ekos[\"Status\"] == \"Completed\"]"
   ]
  },
  {
   "cell_type": "code",
   "execution_count": 43,
   "metadata": {},
   "outputs": [],
   "source": [
    "# Keep Inspiration and Bipap\n",
    "skus_of_interest = [\"Inspiration\", \"Bipap\"]\n",
    "df_ekos = df_ekos[df_ekos[\"Product\"].isin(skus_of_interest)]\n"
   ]
  },
  {
   "cell_type": "code",
   "execution_count": 48,
   "metadata": {},
   "outputs": [
    {
     "data": {
      "text/plain": [
       "(256, 10)"
      ]
     },
     "execution_count": 48,
     "metadata": {},
     "output_type": "execute_result"
    }
   ],
   "source": [
    "df_ekos.shape"
   ]
  },
  {
   "cell_type": "markdown",
   "metadata": {},
   "source": [
    "Separate by skus and group by batch"
   ]
  },
  {
   "cell_type": "code",
   "execution_count": 49,
   "metadata": {},
   "outputs": [],
   "source": [
    "df_ekos_ins = df_ekos[df_ekos[\"Product\"] == \"Inspiration\"]\n",
    "df_ekos_bip = df_ekos[df_ekos[\"Product\"] == \"Bipap\"]"
   ]
  },
  {
   "cell_type": "code",
   "execution_count": 50,
   "metadata": {},
   "outputs": [
    {
     "data": {
      "text/html": [
       "<div>\n",
       "<style scoped>\n",
       "    .dataframe tbody tr th:only-of-type {\n",
       "        vertical-align: middle;\n",
       "    }\n",
       "\n",
       "    .dataframe tbody tr th {\n",
       "        vertical-align: top;\n",
       "    }\n",
       "\n",
       "    .dataframe thead th {\n",
       "        text-align: right;\n",
       "    }\n",
       "</style>\n",
       "<table border=\"1\" class=\"dataframe\">\n",
       "  <thead>\n",
       "    <tr style=\"text-align: right;\">\n",
       "      <th></th>\n",
       "      <th>Status</th>\n",
       "      <th>Start Date</th>\n",
       "      <th>Product</th>\n",
       "      <th>Batch Number</th>\n",
       "      <th>Original Gravity</th>\n",
       "      <th>Date</th>\n",
       "      <th>Task</th>\n",
       "      <th>Temperature</th>\n",
       "      <th>Gravity</th>\n",
       "      <th>Taste Aroma Notes</th>\n",
       "    </tr>\n",
       "  </thead>\n",
       "  <tbody>\n",
       "    <tr>\n",
       "      <th>70</th>\n",
       "      <td>Completed</td>\n",
       "      <td>2022-05-24</td>\n",
       "      <td>Inspiration</td>\n",
       "      <td>1682</td>\n",
       "      <td>15.8</td>\n",
       "      <td>2022-05-24</td>\n",
       "      <td>Pitch dans FV5</td>\n",
       "      <td>20.0</td>\n",
       "      <td>15.8</td>\n",
       "      <td>nan</td>\n",
       "    </tr>\n",
       "    <tr>\n",
       "      <th>71</th>\n",
       "      <td>Completed</td>\n",
       "      <td>2022-05-24</td>\n",
       "      <td>Inspiration</td>\n",
       "      <td>1682</td>\n",
       "      <td>15.8</td>\n",
       "      <td>2022-05-24</td>\n",
       "      <td>Fermentation Log</td>\n",
       "      <td>19.6</td>\n",
       "      <td>15.8</td>\n",
       "      <td>nan</td>\n",
       "    </tr>\n",
       "    <tr>\n",
       "      <th>72</th>\n",
       "      <td>Completed</td>\n",
       "      <td>2022-05-24</td>\n",
       "      <td>Inspiration</td>\n",
       "      <td>1682</td>\n",
       "      <td>15.8</td>\n",
       "      <td>2022-05-26</td>\n",
       "      <td>Fermentation Log</td>\n",
       "      <td>20.0</td>\n",
       "      <td>15.3</td>\n",
       "      <td>nan</td>\n",
       "    </tr>\n",
       "    <tr>\n",
       "      <th>73</th>\n",
       "      <td>Completed</td>\n",
       "      <td>2022-05-24</td>\n",
       "      <td>Inspiration</td>\n",
       "      <td>1682</td>\n",
       "      <td>15.8</td>\n",
       "      <td>2022-05-27</td>\n",
       "      <td>Fermentation Log</td>\n",
       "      <td>19.8</td>\n",
       "      <td>8.9</td>\n",
       "      <td>nan</td>\n",
       "    </tr>\n",
       "    <tr>\n",
       "      <th>74</th>\n",
       "      <td>Completed</td>\n",
       "      <td>2022-05-24</td>\n",
       "      <td>Inspiration</td>\n",
       "      <td>1682</td>\n",
       "      <td>15.8</td>\n",
       "      <td>2022-05-30</td>\n",
       "      <td>Fermentation Log</td>\n",
       "      <td>18.8</td>\n",
       "      <td>4.5</td>\n",
       "      <td>nan</td>\n",
       "    </tr>\n",
       "  </tbody>\n",
       "</table>\n",
       "</div>"
      ],
      "text/plain": [
       "       Status Start Date      Product Batch Number  Original Gravity  \\\n",
       "70  Completed 2022-05-24  Inspiration         1682              15.8   \n",
       "71  Completed 2022-05-24  Inspiration         1682              15.8   \n",
       "72  Completed 2022-05-24  Inspiration         1682              15.8   \n",
       "73  Completed 2022-05-24  Inspiration         1682              15.8   \n",
       "74  Completed 2022-05-24  Inspiration         1682              15.8   \n",
       "\n",
       "         Date              Task  Temperature  Gravity Taste Aroma Notes  \n",
       "70 2022-05-24    Pitch dans FV5         20.0     15.8               nan  \n",
       "71 2022-05-24  Fermentation Log         19.6     15.8               nan  \n",
       "72 2022-05-26  Fermentation Log         20.0     15.3               nan  \n",
       "73 2022-05-27  Fermentation Log         19.8      8.9               nan  \n",
       "74 2022-05-30  Fermentation Log         18.8      4.5               nan  "
      ]
     },
     "execution_count": 50,
     "metadata": {},
     "output_type": "execute_result"
    }
   ],
   "source": [
    "df_ekos_ins.head()"
   ]
  },
  {
   "cell_type": "code",
   "execution_count": 52,
   "metadata": {},
   "outputs": [
    {
     "data": {
      "text/html": [
       "<div>\n",
       "<style scoped>\n",
       "    .dataframe tbody tr th:only-of-type {\n",
       "        vertical-align: middle;\n",
       "    }\n",
       "\n",
       "    .dataframe tbody tr th {\n",
       "        vertical-align: top;\n",
       "    }\n",
       "\n",
       "    .dataframe thead th {\n",
       "        text-align: right;\n",
       "    }\n",
       "</style>\n",
       "<table border=\"1\" class=\"dataframe\">\n",
       "  <thead>\n",
       "    <tr style=\"text-align: right;\">\n",
       "      <th></th>\n",
       "      <th>Status</th>\n",
       "      <th>Start Date</th>\n",
       "      <th>Product</th>\n",
       "      <th>Batch Number</th>\n",
       "      <th>Original Gravity</th>\n",
       "      <th>Date</th>\n",
       "      <th>Task</th>\n",
       "      <th>Temperature</th>\n",
       "      <th>Gravity</th>\n",
       "      <th>Taste Aroma Notes</th>\n",
       "    </tr>\n",
       "  </thead>\n",
       "  <tbody>\n",
       "    <tr>\n",
       "      <th>77</th>\n",
       "      <td>Completed</td>\n",
       "      <td>2022-05-25</td>\n",
       "      <td>Bipap</td>\n",
       "      <td>1683</td>\n",
       "      <td>18.6</td>\n",
       "      <td>2022-05-25</td>\n",
       "      <td>Pitch</td>\n",
       "      <td>23.0</td>\n",
       "      <td>18.6</td>\n",
       "      <td>nan</td>\n",
       "    </tr>\n",
       "    <tr>\n",
       "      <th>78</th>\n",
       "      <td>Completed</td>\n",
       "      <td>2022-05-25</td>\n",
       "      <td>Bipap</td>\n",
       "      <td>1683</td>\n",
       "      <td>18.6</td>\n",
       "      <td>2022-05-26</td>\n",
       "      <td>Fermentation Log / Thu May 26</td>\n",
       "      <td>20.0</td>\n",
       "      <td>12.4</td>\n",
       "      <td>nan</td>\n",
       "    </tr>\n",
       "    <tr>\n",
       "      <th>79</th>\n",
       "      <td>Completed</td>\n",
       "      <td>2022-05-25</td>\n",
       "      <td>Bipap</td>\n",
       "      <td>1683</td>\n",
       "      <td>18.6</td>\n",
       "      <td>2022-05-27</td>\n",
       "      <td>Fermentation Log / Fri May 27</td>\n",
       "      <td>20.1</td>\n",
       "      <td>7.6</td>\n",
       "      <td>nan</td>\n",
       "    </tr>\n",
       "    <tr>\n",
       "      <th>80</th>\n",
       "      <td>Completed</td>\n",
       "      <td>2022-05-25</td>\n",
       "      <td>Bipap</td>\n",
       "      <td>1683</td>\n",
       "      <td>18.6</td>\n",
       "      <td>2022-05-30</td>\n",
       "      <td>Fermentation Log / Mon May 30</td>\n",
       "      <td>20.0</td>\n",
       "      <td>4.4</td>\n",
       "      <td>nan</td>\n",
       "    </tr>\n",
       "    <tr>\n",
       "      <th>81</th>\n",
       "      <td>Completed</td>\n",
       "      <td>2022-05-25</td>\n",
       "      <td>Bipap</td>\n",
       "      <td>1683</td>\n",
       "      <td>18.6</td>\n",
       "      <td>2022-05-31</td>\n",
       "      <td>Fermentation Log / Tue May 31</td>\n",
       "      <td>20.0</td>\n",
       "      <td>3.9</td>\n",
       "      <td>nan</td>\n",
       "    </tr>\n",
       "  </tbody>\n",
       "</table>\n",
       "</div>"
      ],
      "text/plain": [
       "       Status Start Date Product Batch Number  Original Gravity       Date  \\\n",
       "77  Completed 2022-05-25   Bipap         1683              18.6 2022-05-25   \n",
       "78  Completed 2022-05-25   Bipap         1683              18.6 2022-05-26   \n",
       "79  Completed 2022-05-25   Bipap         1683              18.6 2022-05-27   \n",
       "80  Completed 2022-05-25   Bipap         1683              18.6 2022-05-30   \n",
       "81  Completed 2022-05-25   Bipap         1683              18.6 2022-05-31   \n",
       "\n",
       "                             Task  Temperature  Gravity Taste Aroma Notes  \n",
       "77                          Pitch         23.0     18.6               nan  \n",
       "78  Fermentation Log / Thu May 26         20.0     12.4               nan  \n",
       "79  Fermentation Log / Fri May 27         20.1      7.6               nan  \n",
       "80  Fermentation Log / Mon May 30         20.0      4.4               nan  \n",
       "81  Fermentation Log / Tue May 31         20.0      3.9               nan  "
      ]
     },
     "execution_count": 52,
     "metadata": {},
     "output_type": "execute_result"
    }
   ],
   "source": [
    "df_ekos_bip.head()"
   ]
  },
  {
   "cell_type": "code",
   "execution_count": null,
   "metadata": {},
   "outputs": [],
   "source": [
    "#GROUP BY BATCH NUMBER\n",
    "#TODO"
   ]
  },
  {
   "cell_type": "markdown",
   "metadata": {},
   "source": [
    "### Inspiration SKU comparison"
   ]
  },
  {
   "cell_type": "code",
   "execution_count": null,
   "metadata": {},
   "outputs": [],
   "source": []
  }
 ],
 "metadata": {
  "kernelspec": {
   "display_name": "py_siboire",
   "language": "python",
   "name": "python3"
  },
  "language_info": {
   "codemirror_mode": {
    "name": "ipython",
    "version": 3
   },
   "file_extension": ".py",
   "mimetype": "text/x-python",
   "name": "python",
   "nbconvert_exporter": "python",
   "pygments_lexer": "ipython3",
   "version": "3.10.12"
  }
 },
 "nbformat": 4,
 "nbformat_minor": 2
}
